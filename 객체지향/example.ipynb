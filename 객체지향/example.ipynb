## Attribute 추가는 __init__, self 와 함께! 
## init 은 객체 초기화 예약 함수
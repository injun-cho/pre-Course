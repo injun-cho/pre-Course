{
 "cells": [
  {
   "cell_type": "code",
   "execution_count": 1,
   "metadata": {},
   "outputs": [],
   "source": [
    "import threading"
   ]
  },
  {
   "cell_type": "code",
   "execution_count": 2,
   "metadata": {},
   "outputs": [],
   "source": [
    "###### 참고문헌 : https://unocoding.tistory.com/77"
   ]
  },
  {
   "cell_type": "code",
   "execution_count": 6,
   "metadata": {},
   "outputs": [],
   "source": [
    "count = 0\n",
    "\n",
    "class myThread(threading.Thread):\n",
    "    def run(self):\n",
    "        global count\n",
    "        lock.acquire() # 락을 얻음\n",
    "        for _ in range(10):\n",
    "            count += 1  # critical section(임계 영역, 간섭받지않고 실행되어야 할 부분)\n",
    "            print(count,'->{}'.format(self.getName()))\n",
    "        lock.release() # 락을 해제함\n",
    "\n"
   ]
  },
  {
   "cell_type": "code",
   "execution_count": 10,
   "metadata": {},
   "outputs": [
    {
     "name": "stdout",
     "output_type": "stream",
     "text": [
      "1 ->Thread-6\n",
      "2 ->Thread-6\n",
      "3 ->Thread-6\n",
      "4 ->Thread-6\n",
      "5 ->Thread-6\n",
      "6 ->Thread-6\n",
      "7 ->Thread-6\n",
      "8 ->Thread-6\n",
      "9 ->Thread-6\n",
      "10 ->Thread-6\n",
      "11 ->Thread-7\n",
      "12 ->Thread-7\n",
      "13 ->Thread-7\n",
      "14 ->Thread-7\n",
      "15 ->Thread-7\n",
      "16 ->Thread-7\n",
      "17 ->Thread-7\n",
      "18 ->Thread-7\n",
      "19 ->Thread-7\n",
      "20 ->Thread-7\n",
      "21 ->Thread-8\n",
      "22 ->Thread-8\n",
      "23 ->Thread-8\n",
      "24 ->Thread-8\n",
      "25 ->Thread-8\n",
      "26 ->Thread-8\n",
      "27 ->Thread-8\n",
      "28 ->Thread-8\n",
      "29 ->Thread-8\n",
      "30 ->Thread-8\n",
      "31 ->Thread-9\n",
      "32 ->Thread-9\n",
      "33 ->Thread-9\n",
      "34 ->Thread-9\n",
      "35 ->Thread-9\n",
      "36 ->Thread-9\n",
      "37 ->Thread-9\n",
      "38 ->Thread-9\n",
      "39 ->Thread-9\n",
      "40 ->Thread-9\n",
      "41 ->Thread-10\n",
      "42 ->Thread-10\n",
      "43 ->Thread-10\n",
      "44 ->Thread-10\n",
      "45 ->Thread-10\n",
      "46 ->Thread-10\n",
      "47 ->Thread-10\n",
      "48 ->Thread-10\n",
      "49 ->Thread-10\n",
      "50 ->Thread-10\n",
      "51 ->Thread-11\n",
      "52 ->Thread-11\n",
      "53 ->Thread-11\n",
      "54 ->Thread-11\n",
      "55 ->Thread-11\n",
      "56 ->Thread-11\n",
      "57 ->Thread-11\n",
      "58 ->Thread-11\n",
      "59 ->Thread-11\n",
      "60 ->Thread-11\n",
      "61 ->Thread-12\n",
      "62 ->Thread-12\n",
      "63 ->Thread-12\n",
      "64 ->Thread-12\n",
      "65 ->Thread-12\n",
      "66 ->Thread-12\n",
      "67 ->Thread-12\n",
      "68 ->Thread-12\n",
      "69 ->Thread-12\n",
      "70 ->Thread-12\n",
      "71 ->Thread-13\n",
      "72 ->Thread-13\n",
      "73 ->Thread-13\n",
      "74 ->Thread-13\n",
      "75 ->Thread-13\n",
      "76 ->Thread-13\n",
      "77 ->Thread-13\n",
      "78 ->Thread-13\n",
      "79 ->Thread-13\n",
      "80 ->Thread-13\n",
      "81 ->Thread-14\n",
      "82 ->Thread-14\n",
      "83 ->Thread-14\n",
      "84 ->Thread-14\n",
      "85 ->Thread-14\n",
      "86 ->Thread-14\n",
      "87 ->Thread-14\n",
      "88 ->Thread-14\n",
      "89 ->Thread-14\n",
      "90 ->Thread-14\n",
      "91 ->Thread-15\n",
      "92 ->Thread-15\n",
      "93 ->Thread-15\n",
      "94 ->Thread-15\n",
      "95 ->Thread-15\n",
      "96 ->Thread-15\n",
      "97 ->Thread-15\n",
      "98 ->Thread-15\n",
      "99 ->Thread-15\n",
      "100 ->Thread-15\n",
      "Exiting 100\n"
     ]
    },
    {
     "name": "stderr",
     "output_type": "stream",
     "text": [
      "C:\\Users\\user\\AppData\\Local\\Temp\\ipykernel_4048\\1709467035.py:9: DeprecationWarning: getName() is deprecated, get the name attribute instead\n",
      "  print(count,'->{}'.format(self.getName()))\n"
     ]
    }
   ],
   "source": [
    "lock = threading.Lock()  # 락 객체를 획득함\n",
    "\n",
    "threads = []\n",
    "for i in range(10):\n",
    "    th = myThread()\n",
    "    th.start()\n",
    "    threads.append(th)\n",
    "\n",
    "for th in threads:\n",
    "    th.join()\n",
    "    \n",
    "print('Exiting', count)"
   ]
  },
  {
   "cell_type": "code",
   "execution_count": 3,
   "metadata": {},
   "outputs": [],
   "source": [
    "### example2 : https://unocoding.tistory.com/78\n",
    "\n",
    "from multiprocessing import Process, Value, Array, Lock\n",
    "import time\n",
    "import os\n"
   ]
  },
  {
   "cell_type": "code",
   "execution_count": 6,
   "metadata": {},
   "outputs": [
    {
     "name": "stdout",
     "output_type": "stream",
     "text": [
      "Number at beginning is <Synchronized wrapper for c_long(0)>\n",
      "number at end is <Synchronized wrapper for c_long(0)>\n"
     ]
    }
   ],
   "source": [
    "\n",
    "def add_100(number, lock):\n",
    "    for i in range(100):\n",
    "        time.sleep(0.01)\n",
    "        lock.acquire() # 선점 방지 Lock\n",
    "        number.value += 1\n",
    "        lock.release() # 선점 헤지\n",
    "    print(number)\n",
    "\n",
    "\n",
    "if __name__ == \"__main__\":\n",
    "\n",
    "    lock = Lock()\n",
    "    shared_number = Value('i', 0) # i = integer(정수)\n",
    "    print(\"Number at beginning is\", shared_number)\n",
    "\n",
    "    p1 = Process(target=add_100, args=(shared_number, lock))\n",
    "    p2 = Process(target=add_100, args=(shared_number, lock))\n",
    "    p1.start()\n",
    "    p2.start()\n",
    "    p1.join()\n",
    "    p2.join()\n",
    "\n",
    "    print(\"number at end is\", shared_number)"
   ]
  },
  {
   "cell_type": "code",
   "execution_count": 16,
   "metadata": {},
   "outputs": [
    {
     "name": "stdout",
     "output_type": "stream",
     "text": [
      "Number at beginning is <Synchronized wrapper for c_long(0)>\n",
      "number at end is <Synchronized wrapper for c_long(0)>\n"
     ]
    }
   ],
   "source": [
    "def add_100(number):\n",
    "    for i in range(100):\n",
    "        time.sleep(0.01)\n",
    "        number.value += 1\n",
    "\n",
    "\n",
    "if __name__ == \"__main__\":\n",
    "\n",
    "    shared_number = Value('i', 0)\n",
    "    print(\"Number at beginning is\", shared_number)\n",
    "\n",
    "    p1 = Process(target=add_100, args=(shared_number,))\n",
    "    p2 = Process(target=add_100, args=(shared_number,))\n",
    "    p1.start()\n",
    "    p2.start()\n",
    "    p1.join()\n",
    "    p2.join()\n",
    "\n",
    "    print(\"number at end is\", shared_number)"
   ]
  },
  {
   "cell_type": "code",
   "execution_count": 22,
   "metadata": {},
   "outputs": [
    {
     "name": "stdout",
     "output_type": "stream",
     "text": [
      "Number at beginning is [0.0, 100.0, 200.0]\n",
      "number at end is [0.0, 100.0, 200.0]\n"
     ]
    }
   ],
   "source": [
    "from multiprocessing import Process, Value, Array, Lock\n",
    "import time\n",
    "import os\n",
    "\n",
    "def add_100(numbers, lock):\n",
    "    for i in range(100):\n",
    "        time.sleep(0.01)\n",
    "        for j in range(len(numbers)):\n",
    "            with lock:\n",
    "                numbers[j] += 1\n",
    "\n",
    "\n",
    "if __name__ == \"__main__\":\n",
    "\n",
    "    lock = Lock()\n",
    "    shared_array = Array('d', [0.0, 100.0, 200.0]) # d = double (실수)\n",
    "    print(\"Number at beginning is\", shared_array[:])\n",
    "\n",
    "    p1 = Process(target=add_100, args=(shared_array, lock))\n",
    "    p2 = Process(target=add_100, args=(shared_array, lock))\n",
    "    p1.start()\n",
    "    p2.start()\n",
    "\n",
    "    p1.join()\n",
    "    p2.join()\n",
    "\n",
    "    print(\"number at end is\", shared_array[:])"
   ]
  },
  {
   "cell_type": "code",
   "execution_count": 23,
   "metadata": {},
   "outputs": [
    {
     "data": {
      "text/plain": [
       "<Lock(owner=None)>"
      ]
     },
     "execution_count": 23,
     "metadata": {},
     "output_type": "execute_result"
    }
   ],
   "source": [
    "lock"
   ]
  },
  {
   "cell_type": "code",
   "execution_count": 25,
   "metadata": {},
   "outputs": [],
   "source": [
    "from multiprocessing import Process, Value, Array, Lock, Queue\n",
    "import time\n",
    "import os\n",
    "\n",
    "\n",
    "def sqare(numbers, queue):\n",
    "    for i in numbers:\n",
    "        queue.put(i*i)\n",
    "\n",
    "\n",
    "def make_negative(numbers, queue):\n",
    "    for i in numbers:\n",
    "        queue.put(-1*i)\n",
    "\n",
    "\n",
    "if __name__ == \"__main__\":\n",
    "\n",
    "    numbers = range(1, 6)\n",
    "    q = Queue()\n",
    "\n",
    "    p1 = Process(target=sqare, args=(numbers, q))\n",
    "    p2 = Process(target=make_negative, args=(numbers, q))\n",
    "\n",
    "    p1.start()\n",
    "    p2.start()\n",
    "\n",
    "    p1.join()\n",
    "    p2.join()\n",
    "\n",
    "    while not q.empty():\n",
    "        print(q.get())"
   ]
  },
  {
   "cell_type": "code",
   "execution_count": 29,
   "metadata": {},
   "outputs": [
    {
     "name": "stdout",
     "output_type": "stream",
     "text": [
      "number = 50000000\n",
      "number = 50000000\n",
      "end of thread_2 97804464\n",
      "end of thread_1 100000000\n",
      "--- 6.873345136642456 seconds ---\n",
      "shared_number=100000000\n",
      "end of main\n"
     ]
    }
   ],
   "source": [
    "import threading\n",
    "import time\n",
    "\n",
    "shared_number = 0\n",
    "\n",
    "def thread_1(number):\n",
    "    global shared_number\n",
    "    print(\"number = \",end=\"\"), print(number)\n",
    "    \n",
    "    for i in range(number):\n",
    "        shared_number += 1\n",
    "\n",
    "    print(\"end of thread_1\",shared_number)\n",
    "\n",
    "def thread_2(number):\n",
    "    global shared_number\n",
    "    print(\"number = \",end=\"\"), print(number)\n",
    "    for i in range(number):\n",
    "        shared_number += 1\n",
    "\n",
    "    print(\"end of thread_2\",shared_number)\n",
    "    \n",
    "\n",
    "if __name__ == \"__main__\":\n",
    "\n",
    "    threads = [ ]\n",
    "\n",
    "    start_time = time.time()\n",
    "    t1 = threading.Thread( target= thread_1, args=(50000000,) )\n",
    "    t1.start()\n",
    "    threads.append(t1)\n",
    "\n",
    "    t2 = threading.Thread( target= thread_2, args=(50000000,) )\n",
    "    t2.start()\n",
    "    threads.append(t2)\n",
    "\n",
    "    for t in threads:\n",
    "        t.join()\n",
    "\n",
    "    print(\"--- %s seconds ---\" % (time.time() - start_time))\n",
    "\n",
    "    print(\"shared_number=\",end=\"\"), print(shared_number)\n",
    "    print(\"end of main\")"
   ]
  },
  {
   "cell_type": "code",
   "execution_count": 30,
   "metadata": {},
   "outputs": [
    {
     "name": "stdout",
     "output_type": "stream",
     "text": [
      "number = 50000000\n",
      "number = 50000000\n",
      "end of thread_1 50000000\n",
      "end of thread_2 100000000\n",
      "--- 6.639996767044067 seconds ---\n",
      "shared_number=100000000\n",
      "end of main\n"
     ]
    }
   ],
   "source": [
    "import threading\n",
    "import time\n",
    "\n",
    "shared_number = 0\n",
    "lock = threading.Lock() # lock선언 열쇠는 하나여야 한다.\n",
    "\n",
    "def thread_1(number):\n",
    "    global shared_number\n",
    "    print(\"number = \",end=\"\"), print(number)\n",
    "    \n",
    "    lock.acquire() # 내가 쓸거양\n",
    "    for i in range(number):\n",
    "        shared_number += 1\n",
    "\n",
    "    lock.release() # 키 반납\n",
    "\n",
    "    print(\"end of thread_1\",shared_number)\n",
    "\n",
    "def thread_2(number):\n",
    "    global shared_number\n",
    "    print(\"number = \",end=\"\"), print(number)\n",
    "\n",
    "    lock.acquire() # 내가 쓸거양\n",
    "    for i in range(number):\n",
    "        shared_number += 1\n",
    "\n",
    "    lock.release() # 키 반납\n",
    "    print(\"end of thread_2\",shared_number)\n",
    "    \n",
    "\n",
    "if __name__ == \"__main__\":\n",
    "\n",
    "    threads = [ ]\n",
    "\n",
    "    start_time = time.time()\n",
    "    t1 = threading.Thread( target= thread_1, args=(50000000,) )\n",
    "    t1.start()\n",
    "    threads.append(t1)\n",
    "\n",
    "    t2 = threading.Thread( target= thread_2, args=(50000000,) )\n",
    "    t2.start()\n",
    "    threads.append(t2)\n",
    "\n",
    "    for t in threads:\n",
    "        t.join()\n",
    "\n",
    "    print(\"--- %s seconds ---\" % (time.time() - start_time))\n",
    "\n",
    "    print(\"shared_number=\",end=\"\"), print(shared_number)\n",
    "    print(\"end of main\")"
   ]
  },
  {
   "cell_type": "code",
   "execution_count": 31,
   "metadata": {},
   "outputs": [
    {
     "name": "stdout",
     "output_type": "stream",
     "text": [
      "number = 50000000\n",
      "number = 50000000\n",
      "end of thread_1 50000000\n",
      "end of thread_2 100000000\n",
      "--- 6.282459735870361 seconds ---\n",
      "shared_number=100000000\n",
      "end of main\n"
     ]
    }
   ],
   "source": [
    "import threading\n",
    "import time\n",
    "\n",
    "shared_number = 0\n",
    "evt = threading.Event() # 이벤트 선언\n",
    "\n",
    "def thread_1(number):\n",
    "    global shared_number\n",
    "    print(\"number = \",end=\"\"), print(number)\n",
    "    \n",
    "    for i in range(number):\n",
    "        shared_number += 1\n",
    "\n",
    "    evt.set() # thread1 끝나면 풀어줌\n",
    "\n",
    "    print(\"end of thread_1\",shared_number)\n",
    "\n",
    "def thread_2(number):\n",
    "    global shared_number\n",
    "    print(\"number = \",end=\"\"), print(number)\n",
    "    evt.wait() # 여기서 기다려 \n",
    "\n",
    "    for i in range(number):\n",
    "        shared_number += 1\n",
    "\n",
    "    print(\"end of thread_2\",shared_number)\n",
    "    \n",
    "\n",
    "if __name__ == \"__main__\":\n",
    "\n",
    "    threads = [ ]\n",
    "\n",
    "    start_time = time.time()\n",
    "    t1 = threading.Thread( target= thread_1, args=(50000000,) )\n",
    "    t1.start()\n",
    "    threads.append(t1)\n",
    "\n",
    "    t2 = threading.Thread( target= thread_2, args=(50000000,) )\n",
    "    t2.start()\n",
    "    threads.append(t2)\n",
    "\n",
    "    for t in threads:\n",
    "        t.join() # 종료 대기\n",
    "\n",
    "    print(\"--- %s seconds ---\" % (time.time() - start_time))\n",
    "\n",
    "    print(\"shared_number=\",end=\"\"), print(shared_number)\n",
    "    print(\"end of main\")"
   ]
  },
  {
   "cell_type": "code",
   "execution_count": null,
   "metadata": {},
   "outputs": [],
   "source": []
  }
 ],
 "metadata": {
  "kernelspec": {
   "display_name": "Python 3",
   "language": "python",
   "name": "python3"
  },
  "language_info": {
   "codemirror_mode": {
    "name": "ipython",
    "version": 3
   },
   "file_extension": ".py",
   "mimetype": "text/x-python",
   "name": "python",
   "nbconvert_exporter": "python",
   "pygments_lexer": "ipython3",
   "version": "3.10.8"
  },
  "orig_nbformat": 4
 },
 "nbformat": 4,
 "nbformat_minor": 2
}

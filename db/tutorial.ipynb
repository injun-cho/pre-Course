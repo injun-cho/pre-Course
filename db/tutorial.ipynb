{
 "cells": [
  {
   "cell_type": "code",
   "execution_count": 2,
   "metadata": {},
   "outputs": [
    {
     "name": "stderr",
     "output_type": "stream",
     "text": [
      "ERROR: Could not find a version that satisfies the requirement sqlite3 (from versions: none)\n",
      "ERROR: No matching distribution found for sqlite3\n",
      "\n",
      "[notice] A new release of pip available: 22.2.2 -> 23.2.1\n",
      "[notice] To update, run: python.exe -m pip install --upgrade pip\n"
     ]
    }
   ],
   "source": [
    "pip install sqlite3"
   ]
  },
  {
   "cell_type": "code",
   "execution_count": 4,
   "metadata": {},
   "outputs": [],
   "source": [
    "import sqlite3\n",
    "from sqlite3 import Error"
   ]
  },
  {
   "cell_type": "code",
   "execution_count": 6,
   "metadata": {},
   "outputs": [
    {
     "name": "stdout",
     "output_type": "stream",
     "text": [
      "DB Created in memory\n"
     ]
    }
   ],
   "source": [
    "## DB Creation\n",
    "\n",
    "try : \n",
    "    con = sqlite3.connect(\":memory:\")\n",
    "    # con = sqlite3.connect(\"test.db\")\n",
    "    print(\"DB Created in memory\")\n",
    "except Error :\n",
    "    print(Error)\n",
    "finally :\n",
    "    con.close()"
   ]
  },
  {
   "cell_type": "code",
   "execution_count": 13,
   "metadata": {},
   "outputs": [],
   "source": [
    "def connection() :\n",
    "    try :\n",
    "        con = sqlite3.connect(\"test.db\")\n",
    "        return con\n",
    "    except Error : \n",
    "        print(Error)\n",
    "\n",
    "def create_table(q, con) : \n",
    "    cursor = con.cursor()\n",
    "    # q = \"create table if not exist test (id integer, name text, bas_dt text) ;\"\n",
    "    cursor.execute(q)\n",
    "    con.commit()\n",
    "    print(\"create table in memory\")\n",
    "    \n"
   ]
  },
  {
   "cell_type": "code",
   "execution_count": 8,
   "metadata": {},
   "outputs": [],
   "source": [
    "con = connection()"
   ]
  },
  {
   "cell_type": "code",
   "execution_count": 15,
   "metadata": {},
   "outputs": [
    {
     "name": "stdout",
     "output_type": "stream",
     "text": [
      "create table in memory\n"
     ]
    }
   ],
   "source": [
    "q = \"create table if not exists test (id integer, name text, bas_dt text) ;\"\n",
    "\n",
    "create_table(q, con)"
   ]
  },
  {
   "cell_type": "code",
   "execution_count": 16,
   "metadata": {},
   "outputs": [],
   "source": [
    "con.close()"
   ]
  },
  {
   "cell_type": "code",
   "execution_count": null,
   "metadata": {},
   "outputs": [],
   "source": []
  }
 ],
 "metadata": {
  "kernelspec": {
   "display_name": "Python 3",
   "language": "python",
   "name": "python3"
  },
  "language_info": {
   "codemirror_mode": {
    "name": "ipython",
    "version": 3
   },
   "file_extension": ".py",
   "mimetype": "text/x-python",
   "name": "python",
   "nbconvert_exporter": "python",
   "pygments_lexer": "ipython3",
   "version": "3.10.8"
  },
  "orig_nbformat": 4
 },
 "nbformat": 4,
 "nbformat_minor": 2
}
